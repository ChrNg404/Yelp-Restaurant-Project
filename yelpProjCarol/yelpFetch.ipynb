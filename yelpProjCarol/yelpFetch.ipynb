{
 "cells": [
  {
   "cell_type": "code",
   "execution_count": 6,
   "metadata": {},
   "outputs": [],
   "source": [
    "# Dependencies\n",
    "import os\n",
    "import glob\n",
    "import numpy as np\n",
    "import pandas as pd\n",
    "import requests\n",
    "import json\n",
    "import matplotlib.pyplot as plt\n",
    "from pprint import pprint\n",
    "from config import yelp_api_key"
   ]
  },
  {
   "cell_type": "code",
   "execution_count": 7,
   "metadata": {},
   "outputs": [
    {
     "name": "stdout",
     "output_type": "stream",
     "text": [
      "['afghani', 'african', 'andalusian', 'arabian', 'argentine', 'armenian', 'asianfusion', 'asturian', 'australian', 'austrian', 'baguettes', 'bangladeshi', 'basque', 'bavarian', 'bbq', 'beergarden', 'beerhall', 'beisl', 'belgian', 'bistros', 'blacksea', 'brasseries', 'brazilian', 'breakfast_brunch', 'british', 'buffets', 'bulgarian', 'burgers', 'burmese', 'cafes', 'cafeteria', 'cajun', 'cambodian', 'canteen', 'caribbean', 'catalan', 'cheesesteaks', 'chicken_wings', 'chickenshop', 'chilean', 'chinese', 'comfortfood', 'corsican', 'creperies', 'cuban', 'currysausage', 'cypriot', 'czech', 'czechslovakian', 'danish', 'delis', 'diners', 'dinnertheater', 'dumplings', 'eastern_european', 'eltern_cafes', 'ethiopian', 'filipino', 'fischbroetchen', 'fishnchips', 'flatbread', 'fondue', 'food_court', 'foodstands', 'freiduria', 'french', 'galician', 'gamemeat', 'gastropubs', 'georgian', 'german', 'giblets', 'gluten_free', 'greek', 'guamanian', 'halal', 'hawaiian', 'heuriger', 'himalayan', 'hkcafe', 'honduran', 'hotdog', 'hotdogs', 'hotpot', 'hungarian', 'iberian', 'indonesian', 'indpak', 'international', 'irish', 'island_pub', 'israeli', 'italian', 'japanese', 'jewish', 'kebab', 'kopitiam', 'korean', 'kosher', 'kurdish', 'laos', 'laotian', 'latin', 'lyonnais', 'malaysian', 'meatballs', 'mediterranean', 'mexican', 'mideastern', 'milkbars', 'modern_australian', 'modern_european', 'mongolian', 'moroccan', 'newamerican', 'newcanadian', 'newmexican', 'newzealand', 'nicaraguan', 'nightfood', 'nikkei', 'noodles', 'norcinerie', 'norwegian', 'opensandwiches', 'oriental', 'pakistani', 'panasian', 'parma', 'persian', 'peruvian', 'pfcomercial', 'pita', 'pizza', 'polish', 'polynesian', 'popuprestaurants', 'portuguese', 'potatoes', 'poutineries', 'pubfood', 'raw_food', 'riceshop', 'romanian', 'rotisserie_chicken', 'russian', 'salad', 'sandwiches', 'scandinavian', 'schnitzel', 'scottish', 'seafood', 'serbocroatian', 'signature_cuisine', 'singaporean', 'slovakian', 'soulfood', 'soup', 'southern', 'spanish', 'srilankan', 'steak', 'sud_ouest', 'supperclubs', 'sushi', 'swabian', 'swedish', 'swissfood', 'syrian', 'tabernas', 'taiwanese', 'tapas', 'tapasmallplates', 'tavolacalda', 'tex-mex', 'thai', 'tradamerican', 'traditional_swedish', 'trattorie', 'turkish', 'ukrainian', 'uzbek', 'vegan', 'vegetarian', 'venison', 'vietnamese', 'waffles', 'wok', 'wraps', 'yugoslav']\n"
     ]
    }
   ],
   "source": [
    "#to get the different categories from categories.json in Resources\n",
    "\n",
    "restaurant_categories = []\n",
    "\n",
    "with open('Resources/categories.json') as json_file:\n",
    "    cats = json.load(json_file)\n",
    "    \n",
    "    for category in cats:\n",
    "        try:\n",
    "            if category['parents'][0]=='restaurants':\n",
    "                restaurant_categories.append(category['alias'])\n",
    "            \n",
    "        except Exception as e:\n",
    "            #print(f'Restaurant not found. Skipping...')\n",
    "            pass  # no operation\n",
    "\n",
    "\n",
    "print(restaurant_categories)"
   ]
  },
  {
   "cell_type": "code",
   "execution_count": 8,
   "metadata": {},
   "outputs": [
    {
     "name": "stdout",
     "output_type": "stream",
     "text": [
      "Carlsbad,CA\n",
      "Encinitas,CA\n",
      "Oceanside,CA\n",
      "San Marcos,CA\n"
     ]
    }
   ],
   "source": [
    "cities = [\"Carlsbad,CA\", \"Encinitas,CA\", \"Oceanside,CA\", \"San Marcos,CA\"]\n",
    "\n",
    "#change fetch_data to true if you want to fetch the data again\n",
    "fetch_data = True\n",
    "\n",
    "#to fetch data once and store in folder\n",
    "if fetch_data == True:\n",
    "    if not os.path.exists(f'Resources'):\n",
    "            os.makedirs(f'Resources')\n",
    "            \n",
    "    for city in cities:\n",
    "        print(city)\n",
    "        \n",
    "        if not os.path.exists(f'Resources/{city}'):\n",
    "            os.makedirs(f'Resources/{city}')\n",
    "\n",
    "        for category in restaurant_categories:\n",
    "            try:     \n",
    "                #url = f\"https://api.yelp.com/v3/businesses/search?term=restaurants&latitude={latitude}&longitude={longitude}&radius=5000&limit=50&categories={category}\"\n",
    "\n",
    "                url = f\"https://api.yelp.com/v3/businesses/search?term=restaurants&location={city}&limit=50&categories={category}\"\n",
    "\n",
    "                r = requests.get(url, headers={\"Authorization\":\"Bearer \" + yelp_api_key})\n",
    "                restaurants_category_json = r.json()\n",
    "\n",
    "                with open(f'Resources/{city}/{category}.json', 'w') as outfile:\n",
    "                    json.dump(restaurants_category_json, outfile)\n",
    "\n",
    "            except Exception as e:\n",
    "                print(e)"
   ]
  },
  {
   "cell_type": "code",
   "execution_count": null,
   "metadata": {},
   "outputs": [],
   "source": []
  },
  {
   "cell_type": "code",
   "execution_count": null,
   "metadata": {},
   "outputs": [],
   "source": []
  },
  {
   "cell_type": "code",
   "execution_count": null,
   "metadata": {},
   "outputs": [],
   "source": []
  }
 ],
 "metadata": {
  "kernelspec": {
   "display_name": "Python 3",
   "language": "python",
   "name": "python3"
  },
  "language_info": {
   "codemirror_mode": {
    "name": "ipython",
    "version": 3
   },
   "file_extension": ".py",
   "mimetype": "text/x-python",
   "name": "python",
   "nbconvert_exporter": "python",
   "pygments_lexer": "ipython3",
   "version": "3.7.0"
  }
 },
 "nbformat": 4,
 "nbformat_minor": 2
}
