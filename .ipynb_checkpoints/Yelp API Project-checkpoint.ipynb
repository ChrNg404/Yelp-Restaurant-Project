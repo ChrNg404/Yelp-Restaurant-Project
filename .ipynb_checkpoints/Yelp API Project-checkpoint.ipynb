{
 "cells": [
  {
   "cell_type": "code",
   "execution_count": 6,
   "metadata": {},
   "outputs": [
    {
     "ename": "ModuleNotFoundError",
     "evalue": "No module named 'yelp'",
     "output_type": "error",
     "traceback": [
      "\u001b[1;31m---------------------------------------------------------------------------\u001b[0m",
      "\u001b[1;31mModuleNotFoundError\u001b[0m                       Traceback (most recent call last)",
      "\u001b[1;32m<ipython-input-6-8988f359068c>\u001b[0m in \u001b[0;36m<module>\u001b[1;34m()\u001b[0m\n\u001b[0;32m      5\u001b[0m \u001b[1;32mimport\u001b[0m \u001b[0mpandas\u001b[0m \u001b[1;32mas\u001b[0m \u001b[0mpd\u001b[0m\u001b[1;33m\u001b[0m\u001b[0m\n\u001b[0;32m      6\u001b[0m \u001b[1;32mfrom\u001b[0m \u001b[0mpprint\u001b[0m \u001b[1;32mimport\u001b[0m \u001b[0mpprint\u001b[0m\u001b[1;33m\u001b[0m\u001b[0m\n\u001b[1;32m----> 7\u001b[1;33m \u001b[1;32mfrom\u001b[0m \u001b[0myelp\u001b[0m\u001b[1;33m.\u001b[0m\u001b[0mclient\u001b[0m \u001b[1;32mimport\u001b[0m \u001b[0mClient\u001b[0m\u001b[1;33m\u001b[0m\u001b[0m\n\u001b[0m\u001b[0;32m      8\u001b[0m \u001b[1;33m\u001b[0m\u001b[0m\n\u001b[0;32m      9\u001b[0m \u001b[0mapikey\u001b[0m \u001b[1;33m=\u001b[0m \u001b[1;34m\"XRd04SIPzQtgFzAq4PcI9W_HAIjTA4aocwoGtY7VLVlvgJw5QuuptD1eg_1ou8KZEw8L-24hmDEgGVX1pnOh4OewbOieiRI-663D6-xIMgGtwMhPB1vobMm5bsbjW3Yx\"\u001b[0m \u001b[1;31m#  Replace this with your real API key\u001b[0m\u001b[1;33m\u001b[0m\u001b[0m\n",
      "\u001b[1;31mModuleNotFoundError\u001b[0m: No module named 'yelp'"
     ]
    }
   ],
   "source": [
    "from yelpapi import YelpAPI\n",
    "import json\n",
    "import csv\n",
    "import requests\n",
    "import pandas as pd\n",
    "from pprint import pprint\n",
    "from yelp.client import Client\n",
    "\n",
    "apikey = \"XRd04SIPzQtgFzAq4PcI9W_HAIjTA4aocwoGtY7VLVlvgJw5QuuptD1eg_1ou8KZEw8L-24hmDEgGVX1pnOh4OewbOieiRI-663D6-xIMgGtwMhPB1vobMm5bsbjW3Yx\" #  Replace this with your real API key\n",
    "\n",
    "#client = Client(MY_API_KEY)\n",
    "#print(dir(client))\n",
    "#print(help(client))\n",
    "\n",
    "    "
   ]
  },
  {
   "cell_type": "code",
   "execution_count": null,
   "metadata": {},
   "outputs": [],
   "source": [
    "# Print each city's input into different lists. \n",
    "# We also need information on the restaurant's name, rating, and category\n",
    "yelp_api = YelpAPI(apikey)\n",
    "name = []\n",
    "rating = []\n",
    "category = []\n",
    "print(yelp_api)\n",
    "cities = [\"San Diego\"]\n",
    "search_results = yelp_api.search_query(location=city, term=\"restaurant\", limit = 50)\n",
    "for city in cities:\n",
    "# indent the next line if we're using the above loop\n",
    "#print(json.dumps(search_results, indent=4))\n",
    "    # print([b['name'] for b in search_results['businesses']])\n",
    "    for b in search_results['businesses']:\n",
    "        #print([(b['name'],b['rating'])])\n",
    "        name.append(b['name'])\n",
    "        rating.append(b['rating'])\n",
    "        category.append(b['categories'])\n",
    "        pprint([(b['name'],b['categories'])])\n",
    "print(len(search_results['businesses']))\n",
    "# THIS CODE PUTS EVERYTHING IN ONE LIST.\n",
    "# NEED A WAY TO SEPERATE BASED ON CITY"
   ]
  },
  {
   "cell_type": "code",
   "execution_count": 7,
   "metadata": {},
   "outputs": [
    {
     "name": "stdout",
     "output_type": "stream",
     "text": [
      "San Diego\n",
      "Carlsbad\n",
      "Encinitas\n",
      "{'San Diego': [0], 'Carlsbad': [1], 'Encinitas': [2]}\n"
     ]
    }
   ],
   "source": [
    "data = dict()\n",
    "cities = [\"San Diego\",\"Carlsbad\",\"Encinitas\"]\n",
    "for index, city in enumerate(cities):\n",
    "    data[city] = []\n",
    "    print(city)\n",
    "    data[city].append(index)\n",
    "    \n",
    "print(data)"
   ]
  },
  {
   "cell_type": "code",
   "execution_count": 8,
   "metadata": {},
   "outputs": [],
   "source": [
    "# Now that we have everything in seperate lists, let's put it together into a dataframe\n"
   ]
  },
  {
   "cell_type": "code",
   "execution_count": 9,
   "metadata": {},
   "outputs": [],
   "source": [
    "# Once everything is in a dataframe, we can start plotting it.\n",
    "# I recommend doing groupbys first.\n",
    "# We'll be doing graphs based primarily on cities, so let's start there"
   ]
  },
  {
   "cell_type": "code",
   "execution_count": 10,
   "metadata": {},
   "outputs": [],
   "source": [
    "# Next we need graphs based on ratings. So let's do some ratings groupbys."
   ]
  },
  {
   "cell_type": "code",
   "execution_count": null,
   "metadata": {},
   "outputs": [],
   "source": [
    "# Finally, we need data based on categories. "
   ]
  }
 ],
 "metadata": {
  "kernelspec": {
   "display_name": "Python 3",
   "language": "python",
   "name": "python3"
  },
  "language_info": {
   "codemirror_mode": {
    "name": "ipython",
    "version": 3
   },
   "file_extension": ".py",
   "mimetype": "text/x-python",
   "name": "python",
   "nbconvert_exporter": "python",
   "pygments_lexer": "ipython3",
   "version": "3.7.0"
  }
 },
 "nbformat": 4,
 "nbformat_minor": 2
}
