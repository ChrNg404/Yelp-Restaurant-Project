{
 "cells": [
  {
   "cell_type": "code",
   "execution_count": 1,
   "metadata": {},
   "outputs": [],
   "source": [
    "# Dependencies\n",
    "import os\n",
    "import glob\n",
    "import numpy as np\n",
    "import pandas as pd\n",
    "import requests\n",
    "import json\n",
    "import matplotlib.pyplot as plt\n",
    "from pprint import pprint"
   ]
  },
  {
   "cell_type": "code",
   "execution_count": 2,
   "metadata": {},
   "outputs": [
    {
     "name": "stdout",
     "output_type": "stream",
     "text": [
      "190\n"
     ]
    }
   ],
   "source": [
    "#to get the different categories from categories.json in Resources\n",
    "\n",
    "restaurant_categories = []\n",
    "\n",
    "with open('Resources/categories.json') as json_file:\n",
    "    cats = json.load(json_file)\n",
    "    \n",
    "    for category in cats:\n",
    "        try:\n",
    "            if category['parents'][0]=='restaurants':\n",
    "                restaurant_categories.append(category['alias'])\n",
    "            \n",
    "        except Exception as e:\n",
    "            #print(f'Restaurant not found. Skipping...')\n",
    "            pass  # no operation\n",
    "\n",
    "print(len(restaurant_categories))"
   ]
  },
  {
   "cell_type": "code",
   "execution_count": 62,
   "metadata": {},
   "outputs": [
    {
     "name": "stdout",
     "output_type": "stream",
     "text": [
      "Carlsbad,CA\n",
      "Encinitas,CA\n",
      "Oceanside,CA\n",
      "190\n",
      "6963\n",
      "6963\n",
      "6963\n",
      "6963\n",
      "6963\n"
     ]
    }
   ],
   "source": [
    "cities = [\"Carlsbad,CA\", \"Encinitas,CA\", \"Oceanside,CA\"]\n",
    "name_list = []\n",
    "category_list = []\n",
    "rating_list = []\n",
    "review_count_list = []\n",
    "price_list = []\n",
    "total_count_dict = {\n",
    "    \"Oceanside,CA\": [],\n",
    "    \"Encinitas,CA\":[],\n",
    "    \"Carlsbad,CA\":[]\n",
    "}\n",
    "\n",
    "city_list = []\n",
    "\n",
    "for city in cities:\n",
    "    print(city)\n",
    "    \n",
    "    for category in restaurant_categories:\n",
    "      \n",
    "        filename = f\"Resources/{city}/{category}.json\"\n",
    "        #print(filename)\n",
    "        with open(filename) as json_file:\n",
    "            restaurants_json = json.load(json_file)\n",
    "            total_count_dict[city].append(restaurants_json['total'])\n",
    "            \n",
    "            for restaurant in restaurants_json['businesses']:\n",
    "                try:\n",
    "                    city_list.append(city)\n",
    "                    name_list.append(restaurant['name'])\n",
    "\n",
    "                    category_list.append(category) \n",
    "\n",
    "                    review_count_list.append(restaurant['review_count'])\n",
    "                    rating_list.append(restaurant['rating'])\n",
    "\n",
    "                    #if restaurant does not have a restaurant['price'] value, provide a value (but how?)\n",
    "                    #https://stackoverflow.com/questions/24898797/check-if-key-exists-and-iterate-the-json-array-using-python\n",
    "                    if 'price' not in restaurant:\n",
    "                        price_list.append(\"0\")\n",
    "                    else:\n",
    "                        price_list.append(len(restaurant['price']))\n",
    "                except Exception as e:\n",
    "                    print (e)\n",
    "\n",
    "print(len(total_count_dict['Oceanside,CA']))                  \n",
    "print(len(name_list))\n",
    "print(len(category_list))\n",
    "print(len(review_count_list))\n",
    "print(len(rating_list))\n",
    "print(len(price_list))"
   ]
  },
  {
   "cell_type": "code",
   "execution_count": 91,
   "metadata": {},
   "outputs": [
    {
     "data": {
      "text/html": [
       "<div>\n",
       "<style scoped>\n",
       "    .dataframe tbody tr th:only-of-type {\n",
       "        vertical-align: middle;\n",
       "    }\n",
       "\n",
       "    .dataframe tbody tr th {\n",
       "        vertical-align: top;\n",
       "    }\n",
       "\n",
       "    .dataframe thead th {\n",
       "        text-align: right;\n",
       "    }\n",
       "</style>\n",
       "<table border=\"1\" class=\"dataframe\">\n",
       "  <thead>\n",
       "    <tr style=\"text-align: right;\">\n",
       "      <th></th>\n",
       "      <th>Oceanside,CA</th>\n",
       "      <th>Encinitas,CA</th>\n",
       "      <th>Carlsbad,CA</th>\n",
       "      <th>Category</th>\n",
       "    </tr>\n",
       "  </thead>\n",
       "  <tbody>\n",
       "    <tr>\n",
       "      <th>0</th>\n",
       "      <td>14</td>\n",
       "      <td>5</td>\n",
       "      <td>13</td>\n",
       "      <td>afghani</td>\n",
       "    </tr>\n",
       "    <tr>\n",
       "      <th>1</th>\n",
       "      <td>11</td>\n",
       "      <td>10</td>\n",
       "      <td>11</td>\n",
       "      <td>african</td>\n",
       "    </tr>\n",
       "    <tr>\n",
       "      <th>2</th>\n",
       "      <td>0</td>\n",
       "      <td>0</td>\n",
       "      <td>0</td>\n",
       "      <td>andalusian</td>\n",
       "    </tr>\n",
       "    <tr>\n",
       "      <th>3</th>\n",
       "      <td>8</td>\n",
       "      <td>4</td>\n",
       "      <td>7</td>\n",
       "      <td>arabian</td>\n",
       "    </tr>\n",
       "    <tr>\n",
       "      <th>4</th>\n",
       "      <td>16</td>\n",
       "      <td>23</td>\n",
       "      <td>26</td>\n",
       "      <td>argentine</td>\n",
       "    </tr>\n",
       "  </tbody>\n",
       "</table>\n",
       "</div>"
      ],
      "text/plain": [
       "   Oceanside,CA  Encinitas,CA  Carlsbad,CA    Category\n",
       "0            14             5           13     afghani\n",
       "1            11            10           11     african\n",
       "2             0             0            0  andalusian\n",
       "3             8             4            7     arabian\n",
       "4            16            23           26   argentine"
      ]
     },
     "execution_count": 91,
     "metadata": {},
     "output_type": "execute_result"
    }
   ],
   "source": [
    "#Total Restaurant Count per Category\n",
    "total_restaurant_df = pd.DataFrame(total_count_dict)\n",
    "total_restaurant_df['Category'] = restaurant_categories\n",
    "total_restaurant_df.head()"
   ]
  },
  {
   "cell_type": "code",
   "execution_count": 96,
   "metadata": {},
   "outputs": [
    {
     "data": {
      "text/html": [
       "<div>\n",
       "<style scoped>\n",
       "    .dataframe tbody tr th:only-of-type {\n",
       "        vertical-align: middle;\n",
       "    }\n",
       "\n",
       "    .dataframe tbody tr th {\n",
       "        vertical-align: top;\n",
       "    }\n",
       "\n",
       "    .dataframe thead th {\n",
       "        text-align: right;\n",
       "    }\n",
       "</style>\n",
       "<table border=\"1\" class=\"dataframe\">\n",
       "  <thead>\n",
       "    <tr style=\"text-align: right;\">\n",
       "      <th></th>\n",
       "      <th>Oceanside,CA</th>\n",
       "      <th>Encinitas,CA</th>\n",
       "      <th>Carlsbad,CA</th>\n",
       "    </tr>\n",
       "    <tr>\n",
       "      <th>Category</th>\n",
       "      <th></th>\n",
       "      <th></th>\n",
       "      <th></th>\n",
       "    </tr>\n",
       "  </thead>\n",
       "  <tbody>\n",
       "    <tr>\n",
       "      <th>asianfusion</th>\n",
       "      <td>25</td>\n",
       "      <td>47</td>\n",
       "      <td>36</td>\n",
       "    </tr>\n",
       "    <tr>\n",
       "      <th>chinese</th>\n",
       "      <td>51</td>\n",
       "      <td>100</td>\n",
       "      <td>66</td>\n",
       "    </tr>\n",
       "    <tr>\n",
       "      <th>dumplings</th>\n",
       "      <td>0</td>\n",
       "      <td>0</td>\n",
       "      <td>0</td>\n",
       "    </tr>\n",
       "    <tr>\n",
       "      <th>japanese</th>\n",
       "      <td>46</td>\n",
       "      <td>94</td>\n",
       "      <td>68</td>\n",
       "    </tr>\n",
       "    <tr>\n",
       "      <th>korean</th>\n",
       "      <td>6</td>\n",
       "      <td>19</td>\n",
       "      <td>7</td>\n",
       "    </tr>\n",
       "    <tr>\n",
       "      <th>malaysian</th>\n",
       "      <td>4</td>\n",
       "      <td>0</td>\n",
       "      <td>1</td>\n",
       "    </tr>\n",
       "    <tr>\n",
       "      <th>noodles</th>\n",
       "      <td>8</td>\n",
       "      <td>20</td>\n",
       "      <td>10</td>\n",
       "    </tr>\n",
       "    <tr>\n",
       "      <th>sushi</th>\n",
       "      <td>52</td>\n",
       "      <td>108</td>\n",
       "      <td>78</td>\n",
       "    </tr>\n",
       "    <tr>\n",
       "      <th>thai</th>\n",
       "      <td>25</td>\n",
       "      <td>48</td>\n",
       "      <td>36</td>\n",
       "    </tr>\n",
       "    <tr>\n",
       "      <th>vietnamese</th>\n",
       "      <td>19</td>\n",
       "      <td>50</td>\n",
       "      <td>26</td>\n",
       "    </tr>\n",
       "  </tbody>\n",
       "</table>\n",
       "</div>"
      ],
      "text/plain": [
       "             Oceanside,CA  Encinitas,CA  Carlsbad,CA\n",
       "Category                                            \n",
       "asianfusion            25            47           36\n",
       "chinese                51           100           66\n",
       "dumplings               0             0            0\n",
       "japanese               46            94           68\n",
       "korean                  6            19            7\n",
       "malaysian               4             0            1\n",
       "noodles                 8            20           10\n",
       "sushi                  52           108           78\n",
       "thai                   25            48           36\n",
       "vietnamese             19            50           26"
      ]
     },
     "execution_count": 96,
     "metadata": {},
     "output_type": "execute_result"
    }
   ],
   "source": [
    "asian_categories = ['asianfusion','chinese','dumplings','japanese','korean','malaysian','mongloian','noodles','sushi','tawanese','thai','vietnamese']\n",
    "#total_restaurant_df.reset_index(inplace=True)\n",
    "OCE_Asian_Restarants_total_count = total_restaurant_df.loc[total_restaurant_df['Category'].isin(asian_categories),:]\n",
    "OCE_Asian_Restarants_total_count=OCE_Asian_Restarants_total_count.set_index('Category')\n",
    "OCE_Asian_Restarants_total_count"
   ]
  },
  {
   "cell_type": "code",
   "execution_count": 109,
   "metadata": {},
   "outputs": [
    {
     "data": {
      "text/plain": [
       "Text(0.5,1,'Total Retaurant Count')"
      ]
     },
     "execution_count": 109,
     "metadata": {},
     "output_type": "execute_result"
    },
    {
     "data": {
      "image/png": "[encoded data removed]",
      "text/plain": [
       "<Figure size 432x288 with 1 Axes>"
      ]
     },
     "metadata": {
      "needs_background": "light"
     },
     "output_type": "display_data"
    }
   ],
   "source": [
    "OCE_Asian_Restarants_total_count.plot(kind=\"bar\")\n",
    "plt.title(\"Total Retaurant Count\")"
   ]
  },
  {
   "cell_type": "code",
   "execution_count": 94,
   "metadata": {},
   "outputs": [
    {
     "data": {
      "text/html": [
       "<div>\n",
       "<style scoped>\n",
       "    .dataframe tbody tr th:only-of-type {\n",
       "        vertical-align: middle;\n",
       "    }\n",
       "\n",
       "    .dataframe tbody tr th {\n",
       "        vertical-align: top;\n",
       "    }\n",
       "\n",
       "    .dataframe thead th {\n",
       "        text-align: right;\n",
       "    }\n",
       "</style>\n",
       "<table border=\"1\" class=\"dataframe\">\n",
       "  <thead>\n",
       "    <tr style=\"text-align: right;\">\n",
       "      <th></th>\n",
       "      <th>City</th>\n",
       "      <th>Category</th>\n",
       "      <th>Name</th>\n",
       "      <th>Rating</th>\n",
       "      <th>Review Count</th>\n",
       "      <th>Price</th>\n",
       "    </tr>\n",
       "  </thead>\n",
       "  <tbody>\n",
       "    <tr>\n",
       "      <th>0</th>\n",
       "      <td>Carlsbad,CA</td>\n",
       "      <td>afghani</td>\n",
       "      <td>Baba Kabob</td>\n",
       "      <td>5.0</td>\n",
       "      <td>30</td>\n",
       "      <td>0</td>\n",
       "    </tr>\n",
       "    <tr>\n",
       "      <th>1</th>\n",
       "      <td>Carlsbad,CA</td>\n",
       "      <td>afghani</td>\n",
       "      <td>Pamir Kabob House</td>\n",
       "      <td>4.5</td>\n",
       "      <td>189</td>\n",
       "      <td>2</td>\n",
       "    </tr>\n",
       "    <tr>\n",
       "      <th>2</th>\n",
       "      <td>Carlsbad,CA</td>\n",
       "      <td>afghani</td>\n",
       "      <td>Ariana Cuisine</td>\n",
       "      <td>4.5</td>\n",
       "      <td>165</td>\n",
       "      <td>1</td>\n",
       "    </tr>\n",
       "    <tr>\n",
       "      <th>3</th>\n",
       "      <td>Carlsbad,CA</td>\n",
       "      <td>afghani</td>\n",
       "      <td>Kabul West</td>\n",
       "      <td>4.0</td>\n",
       "      <td>97</td>\n",
       "      <td>1</td>\n",
       "    </tr>\n",
       "    <tr>\n",
       "      <th>4</th>\n",
       "      <td>Carlsbad,CA</td>\n",
       "      <td>afghani</td>\n",
       "      <td>Ariana Kabob House</td>\n",
       "      <td>4.5</td>\n",
       "      <td>446</td>\n",
       "      <td>2</td>\n",
       "    </tr>\n",
       "  </tbody>\n",
       "</table>\n",
       "</div>"
      ],
      "text/plain": [
       "          City Category                Name  Rating  Review Count  Price\n",
       "0  Carlsbad,CA  afghani          Baba Kabob     5.0            30      0\n",
       "1  Carlsbad,CA  afghani   Pamir Kabob House     4.5           189      2\n",
       "2  Carlsbad,CA  afghani      Ariana Cuisine     4.5           165      1\n",
       "3  Carlsbad,CA  afghani          Kabul West     4.0            97      1\n",
       "4  Carlsbad,CA  afghani  Ariana Kabob House     4.5           446      2"
      ]
     },
     "execution_count": 94,
     "metadata": {},
     "output_type": "execute_result"
    }
   ],
   "source": [
    "restaurants_df = pd.DataFrame({\n",
    "    \"City\": city_list,\n",
    "    \"Category\": category_list,\n",
    "    \"Name\": name_list,\n",
    "    \"Rating\": rating_list,\n",
    "    \"Review Count\": review_count_list,\n",
    "    \"Price\":price_list\n",
    "})\n",
    "restaurants_df['Price']= pd.to_numeric(restaurants_df['Price'])\n",
    "restaurants_df.head()"
   ]
  },
  {
   "cell_type": "code",
   "execution_count": 67,
   "metadata": {},
   "outputs": [],
   "source": [
    "#Restaurant Rating - Oceanside\n",
    "oceanside_df = restaurants_df.loc[restaurants_df[\"City\"]==\"Oceanside,CA\",:]\n",
    "oceanside_restaurant_rating = oceanside_df.groupby(\"Category\")['Rating'].agg('mean')\n",
    "oceanside_restaurant_rating = pd.DataFrame(oceanside_restaurant_rating)\n",
    "#oceanside_restaurant_rating.head()"
   ]
  },
  {
   "cell_type": "code",
   "execution_count": 68,
   "metadata": {},
   "outputs": [],
   "source": [
    "#Restaurant Rating - Carlsbad\n",
    "carlsbad_df = restaurants_df.loc[restaurants_df[\"City\"]==\"Carlsbad,CA\",:]\n",
    "carlsbad_restaurant_rating = carlsbad_df.groupby(\"Category\")['Rating'].agg('mean')\n",
    "carlsbad_restaurant_rating_df = pd.DataFrame(carlsbad_restaurant_rating)\n",
    "#carlsbad_restaurant_rating_df.head()"
   ]
  },
  {
   "cell_type": "code",
   "execution_count": 69,
   "metadata": {},
   "outputs": [],
   "source": [
    "#Merged Files - Restaurant Rating Oceanside, Carlsbad, Encinitas\n",
    "restaurant_rating = pd.merge(oceanside_restaurant_rating,carlsbad_restaurant_rating_df, on=\"Category\", how=\"outer\")\n",
    "restaurant_rating_df = restaurant_rating.rename(columns={\"Rating_x\": \"Avg Oceanside Restaurant Rating\", \"Rating_y\":\"Avg Carlsbad Restaurant Rating\"})\n",
    "#restaurant_rating_df.head()"
   ]
  },
  {
   "cell_type": "code",
   "execution_count": 70,
   "metadata": {},
   "outputs": [],
   "source": [
    "#Restaurant Rating - Encinitas\n",
    "encinitas_df = restaurants_df.loc[restaurants_df[\"City\"]==\"Encinitas,CA\",:]\n",
    "encinitas_restaurant_rating = encinitas_df.groupby(\"Category\")['Rating'].agg('mean')\n",
    "encinitas_restaurant_rating_df = pd.DataFrame(encinitas_restaurant_rating)\n",
    "#encinitas_restaurant_rating_df.head()"
   ]
  },
  {
   "cell_type": "code",
   "execution_count": 105,
   "metadata": {},
   "outputs": [
    {
     "data": {
      "text/html": [
       "<div>\n",
       "<style scoped>\n",
       "    .dataframe tbody tr th:only-of-type {\n",
       "        vertical-align: middle;\n",
       "    }\n",
       "\n",
       "    .dataframe tbody tr th {\n",
       "        vertical-align: top;\n",
       "    }\n",
       "\n",
       "    .dataframe thead th {\n",
       "        text-align: right;\n",
       "    }\n",
       "</style>\n",
       "<table border=\"1\" class=\"dataframe\">\n",
       "  <thead>\n",
       "    <tr style=\"text-align: right;\">\n",
       "      <th></th>\n",
       "      <th>Avg Oceanside Restaurant Rating</th>\n",
       "      <th>Avg Carlsbad Restaurant Rating</th>\n",
       "      <th>Avg Encinitas Restaurant Rating</th>\n",
       "    </tr>\n",
       "    <tr>\n",
       "      <th>Category</th>\n",
       "      <th></th>\n",
       "      <th></th>\n",
       "      <th></th>\n",
       "    </tr>\n",
       "  </thead>\n",
       "  <tbody>\n",
       "    <tr>\n",
       "      <th>afghani</th>\n",
       "      <td>3.964286</td>\n",
       "      <td>4.038462</td>\n",
       "      <td>4.500000</td>\n",
       "    </tr>\n",
       "    <tr>\n",
       "      <th>african</th>\n",
       "      <td>4.227273</td>\n",
       "      <td>4.227273</td>\n",
       "      <td>4.250000</td>\n",
       "    </tr>\n",
       "    <tr>\n",
       "      <th>arabian</th>\n",
       "      <td>4.375000</td>\n",
       "      <td>4.357143</td>\n",
       "      <td>4.250000</td>\n",
       "    </tr>\n",
       "    <tr>\n",
       "      <th>argentine</th>\n",
       "      <td>4.187500</td>\n",
       "      <td>4.134615</td>\n",
       "      <td>4.152174</td>\n",
       "    </tr>\n",
       "    <tr>\n",
       "      <th>armenian</th>\n",
       "      <td>4.500000</td>\n",
       "      <td>4.750000</td>\n",
       "      <td>NaN</td>\n",
       "    </tr>\n",
       "  </tbody>\n",
       "</table>\n",
       "</div>"
      ],
      "text/plain": [
       "           Avg Oceanside Restaurant Rating  Avg Carlsbad Restaurant Rating  \\\n",
       "Category                                                                     \n",
       "afghani                           3.964286                        4.038462   \n",
       "african                           4.227273                        4.227273   \n",
       "arabian                           4.375000                        4.357143   \n",
       "argentine                         4.187500                        4.134615   \n",
       "armenian                          4.500000                        4.750000   \n",
       "\n",
       "           Avg Encinitas Restaurant Rating  \n",
       "Category                                    \n",
       "afghani                           4.500000  \n",
       "african                           4.250000  \n",
       "arabian                           4.250000  \n",
       "argentine                         4.152174  \n",
       "armenian                               NaN  "
      ]
     },
     "execution_count": 105,
     "metadata": {},
     "output_type": "execute_result"
    }
   ],
   "source": [
    "#Merged Files - Restaurant Rating Oceanside, Carlsbad, Encinitas\n",
    "OCE_restaurant_rating = pd.merge(restaurant_rating_df,encinitas_restaurant_rating_df, on=\"Category\", how=\"outer\")\n",
    "OCE_restaurant_rating.rename(columns={\"Rating\": \"Avg Encinitas Restaurant Rating\"},inplace=True)\n",
    "OCE_restaurant_rating.head()"
   ]
  },
  {
   "cell_type": "code",
   "execution_count": 107,
   "metadata": {},
   "outputs": [
    {
     "data": {
      "text/html": [
       "<div>\n",
       "<style scoped>\n",
       "    .dataframe tbody tr th:only-of-type {\n",
       "        vertical-align: middle;\n",
       "    }\n",
       "\n",
       "    .dataframe tbody tr th {\n",
       "        vertical-align: top;\n",
       "    }\n",
       "\n",
       "    .dataframe thead th {\n",
       "        text-align: right;\n",
       "    }\n",
       "</style>\n",
       "<table border=\"1\" class=\"dataframe\">\n",
       "  <thead>\n",
       "    <tr style=\"text-align: right;\">\n",
       "      <th></th>\n",
       "      <th>Avg Oceanside Restaurant Rating</th>\n",
       "      <th>Avg Carlsbad Restaurant Rating</th>\n",
       "      <th>Avg Encinitas Restaurant Rating</th>\n",
       "    </tr>\n",
       "    <tr>\n",
       "      <th>Category</th>\n",
       "      <th></th>\n",
       "      <th></th>\n",
       "      <th></th>\n",
       "    </tr>\n",
       "  </thead>\n",
       "  <tbody>\n",
       "    <tr>\n",
       "      <th>asianfusion</th>\n",
       "      <td>3.680000</td>\n",
       "      <td>3.722222</td>\n",
       "      <td>3.712766</td>\n",
       "    </tr>\n",
       "    <tr>\n",
       "      <th>chinese</th>\n",
       "      <td>3.310000</td>\n",
       "      <td>3.500000</td>\n",
       "      <td>3.710000</td>\n",
       "    </tr>\n",
       "    <tr>\n",
       "      <th>japanese</th>\n",
       "      <td>3.804348</td>\n",
       "      <td>3.910000</td>\n",
       "      <td>3.990000</td>\n",
       "    </tr>\n",
       "    <tr>\n",
       "      <th>korean</th>\n",
       "      <td>3.833333</td>\n",
       "      <td>3.857143</td>\n",
       "      <td>3.868421</td>\n",
       "    </tr>\n",
       "    <tr>\n",
       "      <th>malaysian</th>\n",
       "      <td>4.250000</td>\n",
       "      <td>4.000000</td>\n",
       "      <td>NaN</td>\n",
       "    </tr>\n",
       "    <tr>\n",
       "      <th>noodles</th>\n",
       "      <td>3.562500</td>\n",
       "      <td>3.650000</td>\n",
       "      <td>3.775000</td>\n",
       "    </tr>\n",
       "    <tr>\n",
       "      <th>sushi</th>\n",
       "      <td>3.860000</td>\n",
       "      <td>3.970000</td>\n",
       "      <td>4.020000</td>\n",
       "    </tr>\n",
       "    <tr>\n",
       "      <th>thai</th>\n",
       "      <td>3.940000</td>\n",
       "      <td>3.958333</td>\n",
       "      <td>3.895833</td>\n",
       "    </tr>\n",
       "    <tr>\n",
       "      <th>vietnamese</th>\n",
       "      <td>4.026316</td>\n",
       "      <td>4.057692</td>\n",
       "      <td>3.970000</td>\n",
       "    </tr>\n",
       "  </tbody>\n",
       "</table>\n",
       "</div>"
      ],
      "text/plain": [
       "             Avg Oceanside Restaurant Rating  Avg Carlsbad Restaurant Rating  \\\n",
       "Category                                                                       \n",
       "asianfusion                         3.680000                        3.722222   \n",
       "chinese                             3.310000                        3.500000   \n",
       "japanese                            3.804348                        3.910000   \n",
       "korean                              3.833333                        3.857143   \n",
       "malaysian                           4.250000                        4.000000   \n",
       "noodles                             3.562500                        3.650000   \n",
       "sushi                               3.860000                        3.970000   \n",
       "thai                                3.940000                        3.958333   \n",
       "vietnamese                          4.026316                        4.057692   \n",
       "\n",
       "             Avg Encinitas Restaurant Rating  \n",
       "Category                                      \n",
       "asianfusion                         3.712766  \n",
       "chinese                             3.710000  \n",
       "japanese                            3.990000  \n",
       "korean                              3.868421  \n",
       "malaysian                                NaN  \n",
       "noodles                             3.775000  \n",
       "sushi                               4.020000  \n",
       "thai                                3.895833  \n",
       "vietnamese                          3.970000  "
      ]
     },
     "execution_count": 107,
     "metadata": {},
     "output_type": "execute_result"
    }
   ],
   "source": [
    "asian_categories = ['asianfusion','chinese','dumplings','japanese','korean','malaysian','mongloian','noodles','sushi','tawanese','thai','vietnamese']\n",
    "OCE_restaurant_rating.reset_index(inplace=True)\n",
    "OCE_Asian_Restarants_rating_mean = OCE_restaurant_rating.loc[OCE_restaurant_rating['Category'].isin(asian_categories),:]\n",
    "OCE_Asian_Restarants_rating_mean = OCE_Asian_Restarants_rating_mean.set_index('Category')\n",
    "OCE_Asian_Restarants_rating_mean"
   ]
  },
  {
   "cell_type": "code",
   "execution_count": 110,
   "metadata": {},
   "outputs": [
    {
     "data": {
      "text/plain": [
       "Text(0.5,1,'Average Restaurant Rating')"
      ]
     },
     "execution_count": 110,
     "metadata": {},
     "output_type": "execute_result"
    },
    {
     "data": {
      "image/png": "[encoded data removed]",
      "text/plain": [
       "<Figure size 432x288 with 1 Axes>"
      ]
     },
     "metadata": {
      "needs_background": "light"
     },
     "output_type": "display_data"
    }
   ],
   "source": [
    "OCE_Asian_Restarants_rating_mean.plot(kind=\"bar\")\n",
    "plt.title('Average Restaurant Rating')"
   ]
  },
  {
   "cell_type": "code",
   "execution_count": 74,
   "metadata": {},
   "outputs": [],
   "source": [
    "#Review Count"
   ]
  },
  {
   "cell_type": "code",
   "execution_count": 75,
   "metadata": {},
   "outputs": [],
   "source": [
    "#Restaurant Review Count Per Category- Oceanside\n",
    "oceanside_df = restaurants_df.loc[restaurants_df[\"City\"]==\"Oceanside,CA\",:]\n",
    "oceanside_restaurant_review_count = oceanside_df.groupby(\"Category\")['Review Count'].agg('sum')\n",
    "oceanside_restaurant_review_count_df = pd.DataFrame(oceanside_restaurant_review_count)\n",
    "#oceanside_restaurant_review_count_df.head()"
   ]
  },
  {
   "cell_type": "code",
   "execution_count": 76,
   "metadata": {},
   "outputs": [],
   "source": [
    "#Restaurant Review Count Per Category- Carlsbad\n",
    "carlsbad_df = restaurants_df.loc[restaurants_df[\"City\"]==\"Carlsbad,CA\",:]\n",
    "carlsbad_restaurant_review_count = carlsbad_df.groupby(\"Category\")['Review Count'].agg('sum')\n",
    "carlsbad_restaurant_review_count_df = pd.DataFrame(carlsbad_restaurant_review_count)\n",
    "#carlsbad_restaurant_review_count_df.head()"
   ]
  },
  {
   "cell_type": "code",
   "execution_count": 77,
   "metadata": {},
   "outputs": [],
   "source": [
    "#Restaurant Review Count Per Category- Encinitas\n",
    "encinitas_df = restaurants_df.loc[restaurants_df[\"City\"]==\"Encinitas,CA\",:]\n",
    "encinitas_restaurant_review_count = encinitas_df.groupby(\"Category\")['Review Count'].agg('sum')\n",
    "encinitas_restaurant_review_count_df = pd.DataFrame(encinitas_restaurant_review_count)\n",
    "#encinitas_restaurant_review_count_df.head()"
   ]
  },
  {
   "cell_type": "code",
   "execution_count": 78,
   "metadata": {},
   "outputs": [],
   "source": [
    "OC_review_count = pd.merge(oceanside_restaurant_review_count_df,carlsbad_restaurant_review_count_df, on=\"Category\", how=\"outer\")\n",
    "OC_review_count.head()\n",
    "OC_review_count_df = OC_review_count.rename(columns={\"Review Count_x\": \"Oceanside Review Count\",\n",
    "                                 \"Review Count_y\": \"Carlsbad Review Count\"})\n",
    "#OC_review_count_df.head()"
   ]
  },
  {
   "cell_type": "code",
   "execution_count": 118,
   "metadata": {},
   "outputs": [
    {
     "data": {
      "text/html": [
       "<div>\n",
       "<style scoped>\n",
       "    .dataframe tbody tr th:only-of-type {\n",
       "        vertical-align: middle;\n",
       "    }\n",
       "\n",
       "    .dataframe tbody tr th {\n",
       "        vertical-align: top;\n",
       "    }\n",
       "\n",
       "    .dataframe thead th {\n",
       "        text-align: right;\n",
       "    }\n",
       "</style>\n",
       "<table border=\"1\" class=\"dataframe\">\n",
       "  <thead>\n",
       "    <tr style=\"text-align: right;\">\n",
       "      <th></th>\n",
       "      <th>Oceanside Review Count</th>\n",
       "      <th>Carlsbad Review Count</th>\n",
       "      <th>Encinitas Review Count</th>\n",
       "    </tr>\n",
       "    <tr>\n",
       "      <th>Category</th>\n",
       "      <th></th>\n",
       "      <th></th>\n",
       "      <th></th>\n",
       "    </tr>\n",
       "  </thead>\n",
       "  <tbody>\n",
       "    <tr>\n",
       "      <th>afghani</th>\n",
       "      <td>3346.0</td>\n",
       "      <td>3321.0</td>\n",
       "      <td>927.0</td>\n",
       "    </tr>\n",
       "    <tr>\n",
       "      <th>african</th>\n",
       "      <td>2807.0</td>\n",
       "      <td>2807.0</td>\n",
       "      <td>2527.0</td>\n",
       "    </tr>\n",
       "    <tr>\n",
       "      <th>arabian</th>\n",
       "      <td>1836.0</td>\n",
       "      <td>1468.0</td>\n",
       "      <td>721.0</td>\n",
       "    </tr>\n",
       "    <tr>\n",
       "      <th>argentine</th>\n",
       "      <td>4179.0</td>\n",
       "      <td>3994.0</td>\n",
       "      <td>3109.0</td>\n",
       "    </tr>\n",
       "    <tr>\n",
       "      <th>armenian</th>\n",
       "      <td>2715.0</td>\n",
       "      <td>489.0</td>\n",
       "      <td>NaN</td>\n",
       "    </tr>\n",
       "  </tbody>\n",
       "</table>\n",
       "</div>"
      ],
      "text/plain": [
       "           Oceanside Review Count  Carlsbad Review Count  \\\n",
       "Category                                                   \n",
       "afghani                    3346.0                 3321.0   \n",
       "african                    2807.0                 2807.0   \n",
       "arabian                    1836.0                 1468.0   \n",
       "argentine                  4179.0                 3994.0   \n",
       "armenian                   2715.0                  489.0   \n",
       "\n",
       "           Encinitas Review Count  \n",
       "Category                           \n",
       "afghani                     927.0  \n",
       "african                    2527.0  \n",
       "arabian                     721.0  \n",
       "argentine                  3109.0  \n",
       "armenian                      NaN  "
      ]
     },
     "execution_count": 118,
     "metadata": {},
     "output_type": "execute_result"
    }
   ],
   "source": [
    "OCE_review_count = pd.merge(OC_review_count_df,encinitas_restaurant_review_count_df, on=\"Category\", how=\"outer\")\n",
    "OCE_review_count_df = OCE_review_count.rename(columns={\"Review Count\": \"Encinitas Review Count\"})\n",
    "OCE_review_count_df.head()"
   ]
  },
  {
   "cell_type": "code",
   "execution_count": 120,
   "metadata": {},
   "outputs": [
    {
     "data": {
      "text/html": [
       "<div>\n",
       "<style scoped>\n",
       "    .dataframe tbody tr th:only-of-type {\n",
       "        vertical-align: middle;\n",
       "    }\n",
       "\n",
       "    .dataframe tbody tr th {\n",
       "        vertical-align: top;\n",
       "    }\n",
       "\n",
       "    .dataframe thead th {\n",
       "        text-align: right;\n",
       "    }\n",
       "</style>\n",
       "<table border=\"1\" class=\"dataframe\">\n",
       "  <thead>\n",
       "    <tr style=\"text-align: right;\">\n",
       "      <th></th>\n",
       "      <th>Oceanside Review Count</th>\n",
       "      <th>Carlsbad Review Count</th>\n",
       "      <th>Encinitas Review Count</th>\n",
       "    </tr>\n",
       "    <tr>\n",
       "      <th>Category</th>\n",
       "      <th></th>\n",
       "      <th></th>\n",
       "      <th></th>\n",
       "    </tr>\n",
       "  </thead>\n",
       "  <tbody>\n",
       "    <tr>\n",
       "      <th>asianfusion</th>\n",
       "      <td>5877.0</td>\n",
       "      <td>8843.0</td>\n",
       "      <td>10973.0</td>\n",
       "    </tr>\n",
       "    <tr>\n",
       "      <th>chinese</th>\n",
       "      <td>5944.0</td>\n",
       "      <td>9481.0</td>\n",
       "      <td>11731.0</td>\n",
       "    </tr>\n",
       "    <tr>\n",
       "      <th>japanese</th>\n",
       "      <td>13778.0</td>\n",
       "      <td>15421.0</td>\n",
       "      <td>15075.0</td>\n",
       "    </tr>\n",
       "    <tr>\n",
       "      <th>korean</th>\n",
       "      <td>1650.0</td>\n",
       "      <td>2134.0</td>\n",
       "      <td>6232.0</td>\n",
       "    </tr>\n",
       "    <tr>\n",
       "      <th>malaysian</th>\n",
       "      <td>1488.0</td>\n",
       "      <td>732.0</td>\n",
       "      <td>NaN</td>\n",
       "    </tr>\n",
       "    <tr>\n",
       "      <th>noodles</th>\n",
       "      <td>2303.0</td>\n",
       "      <td>2663.0</td>\n",
       "      <td>5292.0</td>\n",
       "    </tr>\n",
       "    <tr>\n",
       "      <th>sushi</th>\n",
       "      <td>17689.0</td>\n",
       "      <td>18244.0</td>\n",
       "      <td>18388.0</td>\n",
       "    </tr>\n",
       "    <tr>\n",
       "      <th>thai</th>\n",
       "      <td>7687.0</td>\n",
       "      <td>10793.0</td>\n",
       "      <td>15321.0</td>\n",
       "    </tr>\n",
       "    <tr>\n",
       "      <th>vietnamese</th>\n",
       "      <td>5437.0</td>\n",
       "      <td>8202.0</td>\n",
       "      <td>15711.0</td>\n",
       "    </tr>\n",
       "  </tbody>\n",
       "</table>\n",
       "</div>"
      ],
      "text/plain": [
       "             Oceanside Review Count  Carlsbad Review Count  \\\n",
       "Category                                                     \n",
       "asianfusion                  5877.0                 8843.0   \n",
       "chinese                      5944.0                 9481.0   \n",
       "japanese                    13778.0                15421.0   \n",
       "korean                       1650.0                 2134.0   \n",
       "malaysian                    1488.0                  732.0   \n",
       "noodles                      2303.0                 2663.0   \n",
       "sushi                       17689.0                18244.0   \n",
       "thai                         7687.0                10793.0   \n",
       "vietnamese                   5437.0                 8202.0   \n",
       "\n",
       "             Encinitas Review Count  \n",
       "Category                             \n",
       "asianfusion                 10973.0  \n",
       "chinese                     11731.0  \n",
       "japanese                    15075.0  \n",
       "korean                       6232.0  \n",
       "malaysian                       NaN  \n",
       "noodles                      5292.0  \n",
       "sushi                       18388.0  \n",
       "thai                        15321.0  \n",
       "vietnamese                  15711.0  "
      ]
     },
     "execution_count": 120,
     "metadata": {},
     "output_type": "execute_result"
    }
   ],
   "source": [
    "asian_categories = ['asianfusion','chinese','dumplings','japanese','korean','malaysian','mongloian','noodles','sushi','tawanese','thai','vietnamese']\n",
    "OCE_review_count_df.reset_index(inplace=True)\n",
    "OCE_Asian_Restarants_review_count = OCE_review_count_df.loc[OCE_review_count_df['Category'].isin(asian_categories),:]\n",
    "OCE_Asian_Restarants_review_count = OCE_Asian_Restarants_review_count.set_index('Category')\n",
    "OCE_Asian_Restarants_review_count"
   ]
  },
  {
   "cell_type": "code",
   "execution_count": 122,
   "metadata": {},
   "outputs": [
    {
     "data": {
      "text/plain": [
       "Text(0.5,1,'Total Review Count')"
      ]
     },
     "execution_count": 122,
     "metadata": {},
     "output_type": "execute_result"
    },
    {
     "data": {
      "image/png": "[encoded data removed]",
      "text/plain": [
       "<Figure size 432x288 with 1 Axes>"
      ]
     },
     "metadata": {
      "needs_background": "light"
     },
     "output_type": "display_data"
    }
   ],
   "source": [
    "OCE_Asian_Restarants_review_count.plot(kind=\"bar\")\n",
    "plt.title('Total Review Count')"
   ]
  },
  {
   "cell_type": "code",
   "execution_count": 82,
   "metadata": {},
   "outputs": [],
   "source": [
    "#Price "
   ]
  },
  {
   "cell_type": "code",
   "execution_count": 83,
   "metadata": {},
   "outputs": [],
   "source": [
    "#Restaurant Price Per Category- Oceanside\n",
    "oceanside_df = restaurants_df.loc[restaurants_df[\"City\"]==\"Oceanside,CA\",:]\n",
    "oceanside_restaurant_price = oceanside_df.groupby(\"Category\")['Price'].agg('mean')\n",
    "oceanside_restaurant_price_df = pd.DataFrame(oceanside_restaurant_price)\n",
    "#oceanside_restaurant_price_df.head()"
   ]
  },
  {
   "cell_type": "code",
   "execution_count": 84,
   "metadata": {},
   "outputs": [],
   "source": [
    "#Restaurant Price Per Category- Carlsbad\n",
    "carlsbad_df = restaurants_df.loc[restaurants_df[\"City\"]==\"Carlsbad,CA\",:]\n",
    "carlsbad_restaurant_price = carlsbad_df.groupby(\"Category\")['Price'].agg('mean')\n",
    "carlsbad_restaurant_price_df = pd.DataFrame(carlsbad_restaurant_price)\n",
    "#carlsbad_restaurant_price_df.head()"
   ]
  },
  {
   "cell_type": "code",
   "execution_count": 85,
   "metadata": {},
   "outputs": [],
   "source": [
    "#Restaurant Price Per Category- Encinitas\n",
    "encinitas_df = restaurants_df.loc[restaurants_df[\"City\"]==\"Encinitas,CA\",:]\n",
    "encinitas_restaurant_price = encinitas_df.groupby(\"Category\")['Price'].agg('mean')\n",
    "encinitas_restaurant_price_df = pd.DataFrame(encinitas_restaurant_price)\n",
    "#encinitas_restaurant_price_df.head()"
   ]
  },
  {
   "cell_type": "code",
   "execution_count": 86,
   "metadata": {},
   "outputs": [],
   "source": [
    "#Price merge Oceanside and Carlsbad\n",
    "OC_price_mean = pd.merge(oceanside_restaurant_price_df,carlsbad_restaurant_price_df, on=\"Category\", how=\"outer\")\n",
    "OC_price_mean.head()\n",
    "OC_price_mean_df = OC_price_mean.rename(columns={\"Price_x\": \"Oceanside Mean Price\",\n",
    "                                 \"Price_y\": \"Carlsbad Mean Price\"})\n",
    "#OC_price_mean_df.head()"
   ]
  },
  {
   "cell_type": "code",
   "execution_count": 124,
   "metadata": {
    "scrolled": true
   },
   "outputs": [
    {
     "data": {
      "text/html": [
       "<div>\n",
       "<style scoped>\n",
       "    .dataframe tbody tr th:only-of-type {\n",
       "        vertical-align: middle;\n",
       "    }\n",
       "\n",
       "    .dataframe tbody tr th {\n",
       "        vertical-align: top;\n",
       "    }\n",
       "\n",
       "    .dataframe thead th {\n",
       "        text-align: right;\n",
       "    }\n",
       "</style>\n",
       "<table border=\"1\" class=\"dataframe\">\n",
       "  <thead>\n",
       "    <tr style=\"text-align: right;\">\n",
       "      <th></th>\n",
       "      <th>Oceanside Mean Price</th>\n",
       "      <th>Carlsbad Mean Price</th>\n",
       "      <th>Encinitas Mean Price</th>\n",
       "    </tr>\n",
       "    <tr>\n",
       "      <th>Category</th>\n",
       "      <th></th>\n",
       "      <th></th>\n",
       "      <th></th>\n",
       "    </tr>\n",
       "  </thead>\n",
       "  <tbody>\n",
       "    <tr>\n",
       "      <th>afghani</th>\n",
       "      <td>1.285714</td>\n",
       "      <td>1.307692</td>\n",
       "      <td>1.200000</td>\n",
       "    </tr>\n",
       "    <tr>\n",
       "      <th>african</th>\n",
       "      <td>1.090909</td>\n",
       "      <td>1.090909</td>\n",
       "      <td>1.000000</td>\n",
       "    </tr>\n",
       "    <tr>\n",
       "      <th>arabian</th>\n",
       "      <td>1.000000</td>\n",
       "      <td>0.857143</td>\n",
       "      <td>0.750000</td>\n",
       "    </tr>\n",
       "    <tr>\n",
       "      <th>argentine</th>\n",
       "      <td>1.500000</td>\n",
       "      <td>1.384615</td>\n",
       "      <td>1.391304</td>\n",
       "    </tr>\n",
       "    <tr>\n",
       "      <th>armenian</th>\n",
       "      <td>1.000000</td>\n",
       "      <td>0.500000</td>\n",
       "      <td>NaN</td>\n",
       "    </tr>\n",
       "  </tbody>\n",
       "</table>\n",
       "</div>"
      ],
      "text/plain": [
       "           Oceanside Mean Price  Carlsbad Mean Price  Encinitas Mean Price\n",
       "Category                                                                  \n",
       "afghani                1.285714             1.307692              1.200000\n",
       "african                1.090909             1.090909              1.000000\n",
       "arabian                1.000000             0.857143              0.750000\n",
       "argentine              1.500000             1.384615              1.391304\n",
       "armenian               1.000000             0.500000                   NaN"
      ]
     },
     "execution_count": 124,
     "metadata": {},
     "output_type": "execute_result"
    }
   ],
   "source": [
    "#Price merge Oceanside, Carlsbad, Encinitas\n",
    "OCE_price_mean = pd.merge(OC_price_mean_df,encinitas_restaurant_price_df, on=\"Category\", how=\"outer\")\n",
    "OCE_price_mean_df = OCE_price_mean.rename(columns={\"Price\": \"Encinitas Mean Price\"})\n",
    "OCE_price_mean_df.head()"
   ]
  },
  {
   "cell_type": "code",
   "execution_count": 125,
   "metadata": {},
   "outputs": [
    {
     "data": {
      "text/html": [
       "<div>\n",
       "<style scoped>\n",
       "    .dataframe tbody tr th:only-of-type {\n",
       "        vertical-align: middle;\n",
       "    }\n",
       "\n",
       "    .dataframe tbody tr th {\n",
       "        vertical-align: top;\n",
       "    }\n",
       "\n",
       "    .dataframe thead th {\n",
       "        text-align: right;\n",
       "    }\n",
       "</style>\n",
       "<table border=\"1\" class=\"dataframe\">\n",
       "  <thead>\n",
       "    <tr style=\"text-align: right;\">\n",
       "      <th></th>\n",
       "      <th>Oceanside Mean Price</th>\n",
       "      <th>Carlsbad Mean Price</th>\n",
       "      <th>Encinitas Mean Price</th>\n",
       "    </tr>\n",
       "    <tr>\n",
       "      <th>Category</th>\n",
       "      <th></th>\n",
       "      <th></th>\n",
       "      <th></th>\n",
       "    </tr>\n",
       "  </thead>\n",
       "  <tbody>\n",
       "    <tr>\n",
       "      <th>asianfusion</th>\n",
       "      <td>1.600000</td>\n",
       "      <td>1.638889</td>\n",
       "      <td>1.595745</td>\n",
       "    </tr>\n",
       "    <tr>\n",
       "      <th>chinese</th>\n",
       "      <td>1.220000</td>\n",
       "      <td>1.360000</td>\n",
       "      <td>1.360000</td>\n",
       "    </tr>\n",
       "    <tr>\n",
       "      <th>japanese</th>\n",
       "      <td>1.782609</td>\n",
       "      <td>1.840000</td>\n",
       "      <td>1.720000</td>\n",
       "    </tr>\n",
       "    <tr>\n",
       "      <th>korean</th>\n",
       "      <td>2.000000</td>\n",
       "      <td>2.000000</td>\n",
       "      <td>1.684211</td>\n",
       "    </tr>\n",
       "    <tr>\n",
       "      <th>malaysian</th>\n",
       "      <td>1.250000</td>\n",
       "      <td>2.000000</td>\n",
       "      <td>NaN</td>\n",
       "    </tr>\n",
       "    <tr>\n",
       "      <th>noodles</th>\n",
       "      <td>1.500000</td>\n",
       "      <td>1.500000</td>\n",
       "      <td>1.250000</td>\n",
       "    </tr>\n",
       "    <tr>\n",
       "      <th>sushi</th>\n",
       "      <td>1.860000</td>\n",
       "      <td>1.960000</td>\n",
       "      <td>1.980000</td>\n",
       "    </tr>\n",
       "    <tr>\n",
       "      <th>thai</th>\n",
       "      <td>1.800000</td>\n",
       "      <td>1.722222</td>\n",
       "      <td>1.750000</td>\n",
       "    </tr>\n",
       "    <tr>\n",
       "      <th>vietnamese</th>\n",
       "      <td>1.052632</td>\n",
       "      <td>1.115385</td>\n",
       "      <td>1.060000</td>\n",
       "    </tr>\n",
       "  </tbody>\n",
       "</table>\n",
       "</div>"
      ],
      "text/plain": [
       "             Oceanside Mean Price  Carlsbad Mean Price  Encinitas Mean Price\n",
       "Category                                                                    \n",
       "asianfusion              1.600000             1.638889              1.595745\n",
       "chinese                  1.220000             1.360000              1.360000\n",
       "japanese                 1.782609             1.840000              1.720000\n",
       "korean                   2.000000             2.000000              1.684211\n",
       "malaysian                1.250000             2.000000                   NaN\n",
       "noodles                  1.500000             1.500000              1.250000\n",
       "sushi                    1.860000             1.960000              1.980000\n",
       "thai                     1.800000             1.722222              1.750000\n",
       "vietnamese               1.052632             1.115385              1.060000"
      ]
     },
     "execution_count": 125,
     "metadata": {},
     "output_type": "execute_result"
    }
   ],
   "source": [
    "asian_categories = ['asianfusion','chinese','dumplings','japanese','korean','malaysian','mongloian','noodles','sushi','tawanese','thai','vietnamese']\n",
    "OCE_price_mean_df.reset_index(inplace=True)\n",
    "OCE_Asian_Restarants_Price = OCE_price_mean_df.loc[OCE_price_mean_df['Category'].isin(asian_categories),:]\n",
    "OCE_Asian_Restarants_Price = OCE_Asian_Restarants_Price.set_index('Category')\n",
    "OCE_Asian_Restarants_Price"
   ]
  },
  {
   "cell_type": "code",
   "execution_count": 127,
   "metadata": {},
   "outputs": [
    {
     "data": {
      "text/plain": [
       "Text(0.5,1,'Average Price Per Category')"
      ]
     },
     "execution_count": 127,
     "metadata": {},
     "output_type": "execute_result"
    },
    {
     "data": {
      "image/png": "[encoded data removed]",
      "text/plain": [
       "<Figure size 432x288 with 1 Axes>"
      ]
     },
     "metadata": {
      "needs_background": "light"
     },
     "output_type": "display_data"
    }
   ],
   "source": [
    "OCE_Asian_Restarants_Price.plot(kind='bar')\n",
    "plt.title(\"Average Price Per Category\")"
   ]
  },
  {
   "cell_type": "code",
   "execution_count": null,
   "metadata": {},
   "outputs": [],
   "source": []
  },
  {
   "cell_type": "code",
   "execution_count": null,
   "metadata": {},
   "outputs": [],
   "source": []
  }
 ],
 "metadata": {
  "kernelspec": {
   "display_name": "Python 3",
   "language": "python",
   "name": "python3"
  },
  "language_info": {
   "codemirror_mode": {
    "name": "ipython",
    "version": 3
   },
   "file_extension": ".py",
   "mimetype": "text/x-python",
   "name": "python",
   "nbconvert_exporter": "python",
   "pygments_lexer": "ipython3",
   "version": "3.7.0"
  }
 },
 "nbformat": 4,
 "nbformat_minor": 2
}
