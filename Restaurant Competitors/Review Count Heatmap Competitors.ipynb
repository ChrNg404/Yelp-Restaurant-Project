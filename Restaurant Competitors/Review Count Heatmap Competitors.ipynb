{
 "cells": [
  {
   "cell_type": "code",
   "execution_count": 1,
   "metadata": {},
   "outputs": [],
   "source": [
    "# Dependencies\n",
    "import matplotlib.pyplot as plt\n",
    "import pandas as pd\n",
    "import numpy as np\n",
    "import requests\n",
    "import time\n",
    "import json\n",
    "import os\n",
    "import gmaps\n",
    "import gmplot\n",
    "from geolocation.main import GoogleMaps\n",
    "from geolocation.distance_matrix.client import DistanceMatrixApiClient\n",
    "from yelpapi import YelpAPI\n",
    "from pprint import pprint\n",
    "from config import apikey\n",
    "from config import gkey\n",
    "import csv\n",
    "from yelp.client import Client"
   ]
  },
  {
   "cell_type": "code",
   "execution_count": 2,
   "metadata": {},
   "outputs": [],
   "source": [
    "# Get yo' Key\n",
    "yelp_api = YelpAPI(apikey)\n",
    "#print(yelp_api)"
   ]
  },
  {
   "cell_type": "code",
   "execution_count": 3,
   "metadata": {},
   "outputs": [
    {
     "name": "stdout",
     "output_type": "stream",
     "text": [
      "{\n",
      "    \"Oceanside\": {\n",
      "        \"names\": [],\n",
      "        \"ratings\": [],\n",
      "        \"categories\": [],\n",
      "        \"location\": [],\n",
      "        \"review count\": [],\n",
      "        \"lat\": [],\n",
      "        \"lng\": []\n",
      "    },\n",
      "    \"Encinitas\": {\n",
      "        \"names\": [],\n",
      "        \"ratings\": [],\n",
      "        \"categories\": [],\n",
      "        \"location\": [],\n",
      "        \"review count\": [],\n",
      "        \"lat\": [],\n",
      "        \"lng\": []\n",
      "    },\n",
      "    \"Carlsbad\": {\n",
      "        \"names\": [],\n",
      "        \"ratings\": [],\n",
      "        \"categories\": [],\n",
      "        \"location\": [],\n",
      "        \"review count\": [],\n",
      "        \"lat\": [],\n",
      "        \"lng\": []\n",
      "    }\n",
      "}\n"
     ]
    }
   ],
   "source": [
    "city_names = [\"Oceanside\", \"Encinitas\", \"Carlsbad\"]\n",
    "data = {\n",
    "    city: {\n",
    "        'names': [],\n",
    "        'ratings': [],\n",
    "        'categories': [],\n",
    "        'location':[],\n",
    "        'review count':[],\n",
    "        'lat':[],\n",
    "        'lng':[]\n",
    "    }\n",
    "    for city in city_names\n",
    "}\n",
    "# Then we're gonna print just to see that our lists and dictionaries are set up correctly\n",
    "print(json.dumps(data, indent=4))\n",
    "\n",
    "#Now we just run a loop through the city names to append the data into the city dictionaries where they belong\n",
    "for city in city_names:\n",
    "    search_results = yelp_api.search_query(location=city, \n",
    "                                           term=\"restaurant\", \n",
    "                                           categories='japanese,asian,asianfusion,sushi,hibachi',\n",
    "                                           limit = 50) \n",
    "                                           #offset=100)\n",
    "    for b in search_results['businesses']:\n",
    "        try:\n",
    "            data[city]['names'].append(b[\"name\"])\n",
    "            data[city]['ratings'].append(b[\"rating\"])\n",
    "            data[city]['categories'].append(b[\"categories\"][0]['title']+\"/\"+b[\"categories\"][0][\"alias\"])\n",
    "            data[city]['location'].append(b['location']['city'])\n",
    "            data[city]['lat'].append(b['coordinates']['latitude'])\n",
    "            data[city]['lng'].append(b['coordinates']['longitude'])\n",
    "            data[city]['review count'].append(b['review_count'])\n",
    "        except:\n",
    "            data[city]['names'].append(np.nan)\n",
    "            data[city]['ratings'].append(np.nan)\n",
    "            data[city]['categories'].append(np.nan)\n",
    "            data[city]['location'].append(np.nan)\n",
    "            data[city]['lat'].append(np.nan)\n",
    "            data[city]['lng'].append(np.nan)\n",
    "            data[city]['review count'].append(np.nan)\n",
    "\n",
    "\n",
    "# Then we pretty print the dictionaries to make sure they're all populated\n",
    "#pprint(data, indent=4)"
   ]
  },
  {
   "cell_type": "code",
   "execution_count": 4,
   "metadata": {},
   "outputs": [
    {
     "name": "stdout",
     "output_type": "stream",
     "text": [
      "50\n",
      "50\n",
      "50\n",
      "50\n",
      "50\n",
      "50\n"
     ]
    }
   ],
   "source": [
    "# Now that we have everything in seperate dictionaries, let's put it together into 3 seperate dataframes\n",
    "Oceanside_df = pd.DataFrame.from_dict(data[\"Oceanside\"])\n",
    "Carlsbad_df = pd.DataFrame.from_dict(data[\"Carlsbad\"])\n",
    "Encinitas_df = pd.DataFrame.from_dict(data[\"Encinitas\"])\n",
    "\n",
    "# We'll print the numbers to make sure they're at 50 each\n",
    "print(len(Oceanside_df))\n",
    "print(len(Carlsbad_df))\n",
    "print(len(Encinitas_df))\n",
    "\n",
    "# Then we're dropping any null values\n",
    "Oceanside_df = Oceanside_df.dropna(how='any')\n",
    "Carlsbad_df = Carlsbad_df.dropna(how='any')\n",
    "Encinitas_df = Encinitas_df.dropna(how='any')\n",
    "\n",
    "# And printing again to make sure those are dropped if there are any\n",
    "print(len(Oceanside_df))\n",
    "print(len(Carlsbad_df))\n",
    "print(len(Encinitas_df))\n"
   ]
  },
  {
   "cell_type": "code",
   "execution_count": 5,
   "metadata": {},
   "outputs": [
    {
     "name": "stdout",
     "output_type": "stream",
     "text": [
      "24\n",
      "19\n",
      "17\n"
     ]
    },
    {
     "data": {
      "text/html": [
       "<div>\n",
       "<style scoped>\n",
       "    .dataframe tbody tr th:only-of-type {\n",
       "        vertical-align: middle;\n",
       "    }\n",
       "\n",
       "    .dataframe tbody tr th {\n",
       "        vertical-align: top;\n",
       "    }\n",
       "\n",
       "    .dataframe thead th {\n",
       "        text-align: right;\n",
       "    }\n",
       "</style>\n",
       "<table border=\"1\" class=\"dataframe\">\n",
       "  <thead>\n",
       "    <tr style=\"text-align: right;\">\n",
       "      <th></th>\n",
       "      <th>names</th>\n",
       "      <th>ratings</th>\n",
       "      <th>categories</th>\n",
       "      <th>review count</th>\n",
       "      <th>lat</th>\n",
       "      <th>lng</th>\n",
       "    </tr>\n",
       "    <tr>\n",
       "      <th>location</th>\n",
       "      <th></th>\n",
       "      <th></th>\n",
       "      <th></th>\n",
       "      <th></th>\n",
       "      <th></th>\n",
       "      <th></th>\n",
       "    </tr>\n",
       "  </thead>\n",
       "  <tbody>\n",
       "    <tr>\n",
       "      <th>Oceanside</th>\n",
       "      <td>333 Pacific</td>\n",
       "      <td>4.0</td>\n",
       "      <td>American (New)/newamerican</td>\n",
       "      <td>1438</td>\n",
       "      <td>33.194954</td>\n",
       "      <td>-117.383679</td>\n",
       "    </tr>\n",
       "    <tr>\n",
       "      <th>Oceanside</th>\n",
       "      <td>Wrench &amp; Rodent Seabasstropub</td>\n",
       "      <td>4.5</td>\n",
       "      <td>American (New)/newamerican</td>\n",
       "      <td>723</td>\n",
       "      <td>33.174645</td>\n",
       "      <td>-117.361908</td>\n",
       "    </tr>\n",
       "    <tr>\n",
       "      <th>Oceanside</th>\n",
       "      <td>Maru Restaurant</td>\n",
       "      <td>4.0</td>\n",
       "      <td>Japanese/japanese</td>\n",
       "      <td>210</td>\n",
       "      <td>33.225033</td>\n",
       "      <td>-117.333364</td>\n",
       "    </tr>\n",
       "    <tr>\n",
       "      <th>Oceanside</th>\n",
       "      <td>Wulan Ramen Tap House</td>\n",
       "      <td>4.0</td>\n",
       "      <td>Ramen/ramen</td>\n",
       "      <td>417</td>\n",
       "      <td>33.237943</td>\n",
       "      <td>-117.297560</td>\n",
       "    </tr>\n",
       "    <tr>\n",
       "      <th>Oceanside</th>\n",
       "      <td>Ramen MENMA - Basso Drillman Oceanside</td>\n",
       "      <td>4.0</td>\n",
       "      <td>Ramen/ramen</td>\n",
       "      <td>84</td>\n",
       "      <td>33.195980</td>\n",
       "      <td>-117.378940</td>\n",
       "    </tr>\n",
       "    <tr>\n",
       "      <th>Oceanside</th>\n",
       "      <td>Harney Sushi</td>\n",
       "      <td>4.0</td>\n",
       "      <td>Sushi Bars/sushi</td>\n",
       "      <td>861</td>\n",
       "      <td>33.194667</td>\n",
       "      <td>-117.380578</td>\n",
       "    </tr>\n",
       "    <tr>\n",
       "      <th>Oceanside</th>\n",
       "      <td>Teri Cafe</td>\n",
       "      <td>4.0</td>\n",
       "      <td>Ramen/ramen</td>\n",
       "      <td>785</td>\n",
       "      <td>33.185647</td>\n",
       "      <td>-117.327160</td>\n",
       "    </tr>\n",
       "    <tr>\n",
       "      <th>Oceanside</th>\n",
       "      <td>Yukiya Sushi</td>\n",
       "      <td>4.0</td>\n",
       "      <td>Sushi Bars/sushi</td>\n",
       "      <td>189</td>\n",
       "      <td>33.181649</td>\n",
       "      <td>-117.335375</td>\n",
       "    </tr>\n",
       "    <tr>\n",
       "      <th>Oceanside</th>\n",
       "      <td>Sushi4Reel</td>\n",
       "      <td>4.5</td>\n",
       "      <td>Sushi Bars/sushi</td>\n",
       "      <td>306</td>\n",
       "      <td>33.216325</td>\n",
       "      <td>-117.271782</td>\n",
       "    </tr>\n",
       "    <tr>\n",
       "      <th>Oceanside</th>\n",
       "      <td>Teri Cafe</td>\n",
       "      <td>4.0</td>\n",
       "      <td>Sushi Bars/sushi</td>\n",
       "      <td>609</td>\n",
       "      <td>33.181676</td>\n",
       "      <td>-117.293104</td>\n",
       "    </tr>\n",
       "    <tr>\n",
       "      <th>Oceanside</th>\n",
       "      <td>Poki Poki - Oceanside</td>\n",
       "      <td>4.0</td>\n",
       "      <td>Asian Fusion/asianfusion</td>\n",
       "      <td>286</td>\n",
       "      <td>33.178435</td>\n",
       "      <td>-117.295400</td>\n",
       "    </tr>\n",
       "    <tr>\n",
       "      <th>Oceanside</th>\n",
       "      <td>Chin's Szechwan Cuisine - Oceanside</td>\n",
       "      <td>4.0</td>\n",
       "      <td>Chinese/chinese</td>\n",
       "      <td>259</td>\n",
       "      <td>33.207614</td>\n",
       "      <td>-117.287945</td>\n",
       "    </tr>\n",
       "    <tr>\n",
       "      <th>Oceanside</th>\n",
       "      <td>Love Boat Sushi</td>\n",
       "      <td>4.0</td>\n",
       "      <td>Japanese/japanese</td>\n",
       "      <td>613</td>\n",
       "      <td>33.229665</td>\n",
       "      <td>-117.308063</td>\n",
       "    </tr>\n",
       "    <tr>\n",
       "      <th>Oceanside</th>\n",
       "      <td>Sunshine Poke &amp; Sushi Rolls</td>\n",
       "      <td>4.5</td>\n",
       "      <td>Japanese/japanese</td>\n",
       "      <td>165</td>\n",
       "      <td>33.196600</td>\n",
       "      <td>-117.379944</td>\n",
       "    </tr>\n",
       "    <tr>\n",
       "      <th>Oceanside</th>\n",
       "      <td>Rising Sun Sushi Harbor</td>\n",
       "      <td>4.5</td>\n",
       "      <td>Sushi Bars/sushi</td>\n",
       "      <td>133</td>\n",
       "      <td>33.204395</td>\n",
       "      <td>-117.389962</td>\n",
       "    </tr>\n",
       "    <tr>\n",
       "      <th>Oceanside</th>\n",
       "      <td>Kampai Sushi</td>\n",
       "      <td>4.0</td>\n",
       "      <td>Japanese/japanese</td>\n",
       "      <td>217</td>\n",
       "      <td>33.194140</td>\n",
       "      <td>-117.356770</td>\n",
       "    </tr>\n",
       "    <tr>\n",
       "      <th>Oceanside</th>\n",
       "      <td>Cafe de Thai &amp; Sushi</td>\n",
       "      <td>4.0</td>\n",
       "      <td>Thai/thai</td>\n",
       "      <td>425</td>\n",
       "      <td>33.207398</td>\n",
       "      <td>-117.285297</td>\n",
       "    </tr>\n",
       "    <tr>\n",
       "      <th>Oceanside</th>\n",
       "      <td>Sushi N Joy</td>\n",
       "      <td>4.0</td>\n",
       "      <td>Sushi Bars/sushi</td>\n",
       "      <td>426</td>\n",
       "      <td>33.183355</td>\n",
       "      <td>-117.331983</td>\n",
       "    </tr>\n",
       "    <tr>\n",
       "      <th>Oceanside</th>\n",
       "      <td>Waraii Sushi</td>\n",
       "      <td>4.0</td>\n",
       "      <td>Japanese/japanese</td>\n",
       "      <td>389</td>\n",
       "      <td>33.206791</td>\n",
       "      <td>-117.283925</td>\n",
       "    </tr>\n",
       "    <tr>\n",
       "      <th>Oceanside</th>\n",
       "      <td>WaBa Grill</td>\n",
       "      <td>3.5</td>\n",
       "      <td>Fast Food/hotdogs</td>\n",
       "      <td>202</td>\n",
       "      <td>33.227349</td>\n",
       "      <td>-117.331380</td>\n",
       "    </tr>\n",
       "  </tbody>\n",
       "</table>\n",
       "</div>"
      ],
      "text/plain": [
       "                                            names  ratings  \\\n",
       "location                                                     \n",
       "Oceanside                             333 Pacific      4.0   \n",
       "Oceanside           Wrench & Rodent Seabasstropub      4.5   \n",
       "Oceanside                         Maru Restaurant      4.0   \n",
       "Oceanside                   Wulan Ramen Tap House      4.0   \n",
       "Oceanside  Ramen MENMA - Basso Drillman Oceanside      4.0   \n",
       "Oceanside                            Harney Sushi      4.0   \n",
       "Oceanside                               Teri Cafe      4.0   \n",
       "Oceanside                            Yukiya Sushi      4.0   \n",
       "Oceanside                              Sushi4Reel      4.5   \n",
       "Oceanside                               Teri Cafe      4.0   \n",
       "Oceanside                   Poki Poki - Oceanside      4.0   \n",
       "Oceanside     Chin's Szechwan Cuisine - Oceanside      4.0   \n",
       "Oceanside                         Love Boat Sushi      4.0   \n",
       "Oceanside             Sunshine Poke & Sushi Rolls      4.5   \n",
       "Oceanside                 Rising Sun Sushi Harbor      4.5   \n",
       "Oceanside                            Kampai Sushi      4.0   \n",
       "Oceanside                    Cafe de Thai & Sushi      4.0   \n",
       "Oceanside                             Sushi N Joy      4.0   \n",
       "Oceanside                            Waraii Sushi      4.0   \n",
       "Oceanside                              WaBa Grill      3.5   \n",
       "\n",
       "                           categories  review count        lat         lng  \n",
       "location                                                                    \n",
       "Oceanside  American (New)/newamerican          1438  33.194954 -117.383679  \n",
       "Oceanside  American (New)/newamerican           723  33.174645 -117.361908  \n",
       "Oceanside           Japanese/japanese           210  33.225033 -117.333364  \n",
       "Oceanside                 Ramen/ramen           417  33.237943 -117.297560  \n",
       "Oceanside                 Ramen/ramen            84  33.195980 -117.378940  \n",
       "Oceanside            Sushi Bars/sushi           861  33.194667 -117.380578  \n",
       "Oceanside                 Ramen/ramen           785  33.185647 -117.327160  \n",
       "Oceanside            Sushi Bars/sushi           189  33.181649 -117.335375  \n",
       "Oceanside            Sushi Bars/sushi           306  33.216325 -117.271782  \n",
       "Oceanside            Sushi Bars/sushi           609  33.181676 -117.293104  \n",
       "Oceanside    Asian Fusion/asianfusion           286  33.178435 -117.295400  \n",
       "Oceanside             Chinese/chinese           259  33.207614 -117.287945  \n",
       "Oceanside           Japanese/japanese           613  33.229665 -117.308063  \n",
       "Oceanside           Japanese/japanese           165  33.196600 -117.379944  \n",
       "Oceanside            Sushi Bars/sushi           133  33.204395 -117.389962  \n",
       "Oceanside           Japanese/japanese           217  33.194140 -117.356770  \n",
       "Oceanside                   Thai/thai           425  33.207398 -117.285297  \n",
       "Oceanside            Sushi Bars/sushi           426  33.183355 -117.331983  \n",
       "Oceanside           Japanese/japanese           389  33.206791 -117.283925  \n",
       "Oceanside           Fast Food/hotdogs           202  33.227349 -117.331380  "
      ]
     },
     "execution_count": 5,
     "metadata": {},
     "output_type": "execute_result"
    }
   ],
   "source": [
    "# Since some of our data isn't from the cities we're interested in, let's fix that.\n",
    "\n",
    "# First we'll set the index to \"location\"\n",
    "Oceanside_df = Oceanside_df.set_index(\"location\")\n",
    "Carlsbad_df = Carlsbad_df.set_index(\"location\")\n",
    "Encinitas_df= Encinitas_df.set_index(\"location\")\n",
    "\n",
    "# Then we're going to run a loc on the cities we want\n",
    "# This will make sure we only have the cities we are interested in\n",
    "Oceanside_df=Oceanside_df.loc[\"Oceanside\",:]\n",
    "Carlsbad_df=Carlsbad_df.loc[\"Carlsbad\",:]\n",
    "Encinitas_df=Encinitas_df.loc[\"Encinitas\",:]\n",
    "\n",
    "# We'll print the lengths to see what's left, and the head to make sure the DFs are what we want\n",
    "\n",
    "print(len(Oceanside_df))\n",
    "print(len(Carlsbad_df))\n",
    "print(len(Encinitas_df))\n",
    "\n",
    "Oceanside_df.head(20)"
   ]
  },
  {
   "cell_type": "code",
   "execution_count": 6,
   "metadata": {},
   "outputs": [
    {
     "data": {
      "application/vnd.jupyter.widget-view+json": {
       "model_id": "68d1f27d556b47d2afafe82b67254666",
       "version_major": 2,
       "version_minor": 0
      },
      "text/plain": [
       "Figure(layout=FigureLayout(height='420px'))"
      ]
     },
     "metadata": {},
     "output_type": "display_data"
    }
   ],
   "source": [
    "# Now we do heatmaps. First we're loading up the figures we want\n",
    "gmaps.configure(api_key=gkey)\n",
    "Carlsbad_coordinates = (33.1580933,-117.339839)\n",
    "Carlsbad_fig=gmaps.figure(center=Carlsbad_coordinates, zoom_level=14)\n",
    "Carlsbad_fig"
   ]
  },
  {
   "cell_type": "code",
   "execution_count": 7,
   "metadata": {},
   "outputs": [
    {
     "data": {
      "application/vnd.jupyter.widget-view+json": {
       "model_id": "0ec3fa2be1d747878ec7e056cebe58be",
       "version_major": 2,
       "version_minor": 0
      },
      "text/plain": [
       "Figure(layout=FigureLayout(height='420px'))"
      ]
     },
     "metadata": {},
     "output_type": "display_data"
    }
   ],
   "source": [
    "Oceanside_coordinates = (33.1959, -117.3795)\n",
    "Oceanside_fig = gmaps.figure(center=Oceanside_coordinates, zoom_level=14)\n",
    "Oceanside_fig"
   ]
  },
  {
   "cell_type": "code",
   "execution_count": 8,
   "metadata": {},
   "outputs": [
    {
     "data": {
      "application/vnd.jupyter.widget-view+json": {
       "model_id": "baf39f480946434ea37e3bfa2de4c92b",
       "version_major": 2,
       "version_minor": 0
      },
      "text/plain": [
       "Figure(layout=FigureLayout(height='420px'))"
      ]
     },
     "metadata": {},
     "output_type": "display_data"
    }
   ],
   "source": [
    "Encinitas_coordinates = (33.0370, -117.2920)\n",
    "Encinitas_fig = gmaps.figure(center=Encinitas_coordinates, zoom_level=14)\n",
    "Encinitas_fig"
   ]
  },
  {
   "cell_type": "code",
   "execution_count": 9,
   "metadata": {},
   "outputs": [],
   "source": [
    "# Then we make the variables for our heat points and weight\n",
    "Carlsbad_locations = Carlsbad_df[[\"lat\",\"lng\"]].astype(float)\n",
    "Carlsbad_ratings = Carlsbad_df[\"ratings\"].astype(float)\n",
    "Carlsbad_reviewcounts = Carlsbad_df[\"review count\"].astype(float)\n",
    "Oceanside_locations = Oceanside_df[[\"lat\",\"lng\"]].astype(float)\n",
    "Oceanside_ratings = Oceanside_df[\"ratings\"].astype(float)\n",
    "Oceanside_reviewcounts = Oceanside_df[\"review count\"].astype(float)\n",
    "Encinitas_locations = Encinitas_df[[\"lat\",\"lng\"]].astype(float)\n",
    "Encinitas_ratings = Encinitas_df[\"ratings\"].astype(float)\n",
    "Encinitas_reviewcounts = Encinitas_df[\"review count\"].astype(float)\n"
   ]
  },
  {
   "cell_type": "code",
   "execution_count": 10,
   "metadata": {},
   "outputs": [
    {
     "data": {
      "application/vnd.jupyter.widget-view+json": {
       "model_id": "68d1f27d556b47d2afafe82b67254666",
       "version_major": 2,
       "version_minor": 0
      },
      "text/plain": [
       "Figure(layout=FigureLayout(height='420px'))"
      ]
     },
     "metadata": {},
     "output_type": "display_data"
    }
   ],
   "source": [
    "Carlsbad_heat = gmaps.heatmap_layer(Carlsbad_locations, weights=Carlsbad_reviewcounts, dissipating=False, max_intensity=1000, point_radius=.003)\n",
    "Carlsbad_fig.add_layer(Carlsbad_heat)\n",
    "Carlsbad_fig"
   ]
  },
  {
   "cell_type": "code",
   "execution_count": 11,
   "metadata": {},
   "outputs": [
    {
     "data": {
      "application/vnd.jupyter.widget-view+json": {
       "model_id": "baf39f480946434ea37e3bfa2de4c92b",
       "version_major": 2,
       "version_minor": 0
      },
      "text/plain": [
       "Figure(layout=FigureLayout(height='420px'))"
      ]
     },
     "metadata": {},
     "output_type": "display_data"
    }
   ],
   "source": [
    "Encinitas_heat = gmaps.heatmap_layer(Encinitas_locations, weights=Encinitas_reviewcounts, dissipating=False, max_intensity=1000, point_radius=.003)\n",
    "Encinitas_fig.add_layer(Encinitas_heat)\n",
    "Encinitas_fig"
   ]
  },
  {
   "cell_type": "code",
   "execution_count": 12,
   "metadata": {},
   "outputs": [
    {
     "data": {
      "application/vnd.jupyter.widget-view+json": {
       "model_id": "0ec3fa2be1d747878ec7e056cebe58be",
       "version_major": 2,
       "version_minor": 0
      },
      "text/plain": [
       "Figure(layout=FigureLayout(height='420px'))"
      ]
     },
     "metadata": {},
     "output_type": "display_data"
    }
   ],
   "source": [
    "Oceanside_heat = gmaps.heatmap_layer(Oceanside_locations, weights=Oceanside_reviewcounts, dissipating=False, max_intensity=1000, point_radius=.003)\n",
    "Oceanside_fig.add_layer(Oceanside_heat)\n",
    "Oceanside_fig"
   ]
  },
  {
   "cell_type": "code",
   "execution_count": null,
   "metadata": {},
   "outputs": [],
   "source": []
  }
 ],
 "metadata": {
  "kernelspec": {
   "display_name": "Python 3",
   "language": "python",
   "name": "python3"
  },
  "language_info": {
   "codemirror_mode": {
    "name": "ipython",
    "version": 3
   },
   "file_extension": ".py",
   "mimetype": "text/x-python",
   "name": "python",
   "nbconvert_exporter": "python",
   "pygments_lexer": "ipython3",
   "version": "3.7.0"
  }
 },
 "nbformat": 4,
 "nbformat_minor": 2
}
